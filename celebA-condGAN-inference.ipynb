{
 "cells": [
  {
   "cell_type": "markdown",
   "metadata": {},
   "source": [
    "# Deep Conditional Generative Adversarial Networks"
   ]
  },
  {
   "cell_type": "code",
   "execution_count": null,
   "metadata": {},
   "outputs": [],
   "source": [
    "from __future__ import print_function\n",
    "import os\n",
    "import matplotlib as mpl\n",
    "import tarfile\n",
    "import matplotlib.image as mpimg\n",
    "from matplotlib import pyplot as plt\n",
    "\n",
    "import mxnet as mx\n",
    "from mxnet import gluon\n",
    "from mxnet import ndarray as nd\n",
    "from mxnet.gluon import nn, utils\n",
    "from mxnet import autograd\n",
    "import numpy as np"
   ]
  },
  {
   "cell_type": "markdown",
   "metadata": {},
   "source": [
    "## Set parameters"
   ]
  },
  {
   "cell_type": "code",
   "execution_count": null,
   "metadata": {},
   "outputs": [],
   "source": [
    "latent_z_size = 100\n",
    "\n",
    "mmean=113.48657\n",
    "mstd=73.67449*2\n",
    "\n",
    "use_gpu = False\n",
    "ctx = mx.gpu() if use_gpu else mx.cpu()"
   ]
  },
  {
   "cell_type": "markdown",
   "metadata": {},
   "source": [
    "## Defining the networks"
   ]
  },
  {
   "cell_type": "code",
   "execution_count": null,
   "metadata": {},
   "outputs": [],
   "source": [
    "# build the generator\n",
    "nc = 3\n",
    "ngf = 64\n",
    "netG = nn.Sequential()\n",
    "with netG.name_scope():\n",
    "    # input is Z, going into a convolution\n",
    "    netG.add(nn.Conv2DTranspose(ngf * 8, 4, 1, 0, use_bias=False))\n",
    "    netG.add(nn.BatchNorm())\n",
    "    netG.add(nn.Activation('relu'))\n",
    "    # state size. (ngf*8) x 4 x 4\n",
    "    netG.add(nn.Conv2DTranspose(ngf * 4, 4, 2, (0,1), use_bias=False))\n",
    "    netG.add(nn.BatchNorm())\n",
    "    netG.add(nn.Activation('relu'))\n",
    "    # state size. (ngf*8) x 10 x 8\n",
    "    netG.add(nn.Conv2DTranspose(ngf * 2, 4, 2, 1, use_bias=False))\n",
    "    netG.add(nn.BatchNorm())\n",
    "    netG.add(nn.Activation('relu'))\n",
    "    # state size. (ngf*8) x 20 x 16\n",
    "    netG.add(nn.Conv2DTranspose(ngf, 4, 2, 1, use_bias=False))\n",
    "    netG.add(nn.BatchNorm())\n",
    "    netG.add(nn.Activation('relu'))\n",
    "    # state size. (ngf*8) x 40 x 32\n",
    "    netG.add(nn.Conv2DTranspose(nc, 4, 2, 1, use_bias=False))\n",
    "    netG.add(nn.Activation('tanh'))\n",
    "    # state size. (nc) x 64 x 64"
   ]
  },
  {
   "cell_type": "markdown",
   "metadata": {},
   "source": [
    "## Setup Loss Function and Optimizer\n",
    "We use binary cross-entropy as our loss function and use the Adam optimizer. We initialize the network's parameters by sampling from a normal distribution."
   ]
  },
  {
   "cell_type": "code",
   "execution_count": null,
   "metadata": {},
   "outputs": [],
   "source": [
    "netG.load_parameters(\"params/condGAN-generator.params\",ctx)"
   ]
  },
  {
   "cell_type": "code",
   "execution_count": null,
   "metadata": {},
   "outputs": [],
   "source": [
    "def visualize(img_arr):\n",
    "    plt.imshow(((img_arr.asnumpy().transpose(1, 2, 0) + 1.0) * 127.5).astype(np.uint8))\n",
    "    plt.axis('off')"
   ]
  },
  {
   "cell_type": "markdown",
   "metadata": {},
   "source": [
    "## Results\n",
    "Given a trained generator, we can generate some images of faces."
   ]
  },
  {
   "cell_type": "code",
   "execution_count": null,
   "metadata": {},
   "outputs": [],
   "source": [
    "num_image = 8\n",
    "# right attribute label y \n",
    "label = mx.nd.zeros([1,40,1,1],ctx)\n",
    "label[:,0,:,:]=-1\t#5_o_Clock_Shadow\n",
    "label[:,1,:,:]=-1\t#Arched_Eyebrows\n",
    "label[:,2,:,:]=1\t#Attractive\n",
    "label[:,3,:,:]=-1\t#Bags_Under_Eyes\n",
    "label[:,4,:,:]=-1\t#Bald\n",
    "label[:,5,:,:]=-1\t#Bangs\n",
    "label[:,6,:,:]=-1\t#Big_Lips\n",
    "label[:,7,:,:]=-1\t#Big_Nose\n",
    "label[:,8,:,:]=-1\t#Black_Hair\n",
    "label[:,9,:,:]=-1\t#Blond_Hair\n",
    "label[:,10,:,:]=-1\t#Blurry\n",
    "label[:,11,:,:]=1\t#Brown_Hair\n",
    "label[:,12,:,:]=-1\t#Bushy_Eyebrows\n",
    "label[:,13,:,:]=-1\t#Chubby\n",
    "label[:,14,:,:]=-1\t#Double_Chin\n",
    "label[:,15,:,:]=-1\t#Eyeglasses\n",
    "label[:,16,:,:]=-1\t#Goatee\n",
    "label[:,17,:,:]=-1\t#Gray_Hair\n",
    "label[:,18,:,:]=1\t#Heavy_Makeup\n",
    "label[:,19,:,:]=1\t#High_Cheekbones\n",
    "label[:,20,:,:]=-1\t#Male\n",
    "label[:,21,:,:]=-1\t#Mouth_Slightly_Open\n",
    "label[:,22,:,:]=-1\t#Mustache\n",
    "label[:,23,:,:]=-1\t#Narrow_Eyes\n",
    "label[:,24,:,:]=1\t#No_Beard\n",
    "label[:,25,:,:]=-1\t#Oval_Face\n",
    "label[:,26,:,:]=-1\t#Pale_Skin\n",
    "label[:,27,:,:]=1\t#Pointy_Nose\n",
    "label[:,28,:,:]=-1\t#Receding_Hairline\n",
    "label[:,29,:,:]=-1\t#Rosy_Cheeks\n",
    "label[:,30,:,:]=-1\t#Sideburns\n",
    "label[:,31,:,:]=1\t#Smiling\n",
    "label[:,32,:,:]=-1\t#Straight_Hair\n",
    "label[:,33,:,:]=1\t#Wavy_Hair\n",
    "label[:,34,:,:]=-1\t#Wearing_Earrings\n",
    "label[:,35,:,:]=-1\t#Wearing_Hat\n",
    "label[:,36,:,:]=1\t#Wearing_Lipstick\n",
    "label[:,37,:,:]=-1\t#Wearing_Necklace\n",
    "label[:,38,:,:]=-1\t#Wearing_Necktie\n",
    "label[:,39,:,:]=1\t#Young"
   ]
  },
  {
   "cell_type": "code",
   "execution_count": null,
   "metadata": {},
   "outputs": [],
   "source": [
    "for i in range(num_image):\n",
    "    latent_z = mx.nd.random_normal(0, 1, shape=(1, latent_z_size, 1, 1), ctx=ctx)\n",
    "    latent_z = mx.nd.concat(latent_z,label,dim=1)\n",
    "    img = netG(latent_z)\n",
    "    plt.subplot(2,4,i+1)\n",
    "    visualize(img[0])\n",
    "    plt.savefig('samples-1.png',dpi=250)\n",
    "plt.show()"
   ]
  },
  {
   "cell_type": "code",
   "execution_count": null,
   "metadata": {},
   "outputs": [],
   "source": [
    "label[:,0,:,:]=1\t#5_o_Clock_Shadow\n",
    "label[:,1,:,:]=-1\t#Arched_Eyebrows\n",
    "label[:,2,:,:]=-1\t#Attractive\n",
    "label[:,3,:,:]=1\t#Bags_Under_Eyes\n",
    "label[:,4,:,:]=-1\t#Bald\n",
    "label[:,5,:,:]=-1\t#Bangs\n",
    "label[:,6,:,:]=-1\t#Big_Lips\n",
    "label[:,7,:,:]=1\t#Big_Nose\n",
    "label[:,8,:,:]=1\t#Black_Hair\n",
    "label[:,9,:,:]=-1\t#Blond_Hair\n",
    "label[:,10,:,:]=-1\t#Blurry\n",
    "label[:,11,:,:]=-1\t#Brown_Hair\n",
    "label[:,12,:,:]=-1\t#Bushy_Eyebrows\n",
    "label[:,13,:,:]=-1\t#Chubby\n",
    "label[:,14,:,:]=-1\t#Double_Chin\n",
    "label[:,15,:,:]=1\t#Eyeglasses\n",
    "label[:,16,:,:]=1\t#Goatee\n",
    "label[:,17,:,:]=-1\t#Gray_Hair\n",
    "label[:,18,:,:]=-1\t#Heavy_Makeup\n",
    "label[:,19,:,:]=-1\t#High_Cheekbones\n",
    "label[:,20,:,:]=1\t#Male\n",
    "label[:,21,:,:]=-1\t#Mouth_Slightly_Open\n",
    "label[:,22,:,:]=-1\t#Mustache\n",
    "label[:,23,:,:]=-1\t#Narrow_Eyes\n",
    "label[:,24,:,:]=-1\t#No_Beard\n",
    "label[:,25,:,:]=-1\t#Oval_Face\n",
    "label[:,26,:,:]=-1\t#Pale_Skin\n",
    "label[:,27,:,:]=-1\t#Pointy_Nose\n",
    "label[:,28,:,:]=-1\t#Receding_Hairline\n",
    "label[:,29,:,:]=-1\t#Rosy_Cheeks\n",
    "label[:,30,:,:]=1\t#Sideburns\n",
    "label[:,31,:,:]=-1\t#Smiling\n",
    "label[:,32,:,:]=1\t#Straight_Hair\n",
    "label[:,33,:,:]=-1\t#Wavy_Hair\n",
    "label[:,34,:,:]=-1\t#Wearing_Earrings\n",
    "label[:,35,:,:]=-1\t#Wearing_Hat\n",
    "label[:,36,:,:]=-1\t#Wearing_Lipstick\n",
    "label[:,37,:,:]=-1\t#Wearing_Necklace\n",
    "label[:,38,:,:]=-1\t#Wearing_Necktie\n",
    "label[:,39,:,:]=1\t#Young"
   ]
  },
  {
   "cell_type": "code",
   "execution_count": null,
   "metadata": {},
   "outputs": [],
   "source": [
    "for i in range(num_image):\n",
    "    latent_z = mx.nd.random_normal(0, 1, shape=(1, latent_z_size, 1, 1), ctx=ctx)\n",
    "    latent_z = mx.nd.concat(latent_z,label,dim=1)\n",
    "    img = netG(latent_z)\n",
    "    plt.subplot(2,4,i+1)\n",
    "    visualize(img[0])\n",
    "    plt.savefig('samples-2.png',dpi=250)\n",
    "plt.show()"
   ]
  },
  {
   "cell_type": "markdown",
   "metadata": {},
   "source": [
    "## Interpolation"
   ]
  },
  {
   "cell_type": "code",
   "execution_count": null,
   "metadata": {
    "scrolled": true
   },
   "outputs": [],
   "source": [
    "num_image = 12\n",
    "step = 0.05\n",
    "for i in range(num_image):\n",
    "    img = netG(latent_z)\n",
    "    plt.subplot(3,4,i+1)\n",
    "    visualize(img[0])\n",
    "    latent_z += 0.05\n",
    "    plt.savefig('interpolation_samples.png',dpi=250)\n",
    "plt.show()"
   ]
  },
  {
   "cell_type": "markdown",
   "metadata": {},
   "source": [
    "## Random Attributes"
   ]
  },
  {
   "cell_type": "code",
   "execution_count": null,
   "metadata": {},
   "outputs": [],
   "source": [
    "num_image = 8\n",
    "# right attribute label y \n",
    "label = mx.nd.zeros([1,40,1,1],ctx)\n",
    "label[:,0,:,:]=1\t#5_o_Clock_Shadow\n",
    "label[:,1,:,:]=1\t#Arched_Eyebrows\n",
    "label[:,2,:,:]=1\t#Attractive\n",
    "label[:,3,:,:]=-1\t#Bags_Under_Eyes\n",
    "label[:,4,:,:]=1\t#Bald\n",
    "label[:,5,:,:]=1\t#Bangs\n",
    "label[:,6,:,:]=-1\t#Big_Lips\n",
    "label[:,7,:,:]=1\t#Big_Nose\n",
    "label[:,8,:,:]=1\t#Black_Hair\n",
    "label[:,9,:,:]=-1\t#Blond_Hair\n",
    "label[:,10,:,:]=1\t#Blurry\n",
    "label[:,11,:,:]=1\t#Brown_Hair\n",
    "label[:,12,:,:]=1\t#Bushy_Eyebrows\n",
    "label[:,13,:,:]=1\t#Chubby\n",
    "label[:,14,:,:]=1\t#Double_Chin\n",
    "label[:,15,:,:]=1\t#Eyeglasses\n",
    "label[:,16,:,:]=1\t#Goatee\n",
    "label[:,17,:,:]=1\t#Gray_Hair\n",
    "label[:,18,:,:]=-1\t#Heavy_Makeup\n",
    "label[:,19,:,:]=1\t#High_Cheekbones\n",
    "label[:,20,:,:]=1\t#Male\n",
    "label[:,21,:,:]=1\t#Mouth_Slightly_Open\n",
    "label[:,22,:,:]=1\t#Mustache\n",
    "label[:,23,:,:]=1\t#Narrow_Eyes\n",
    "label[:,24,:,:]=-1\t#No_Beard\n",
    "label[:,25,:,:]=1\t#Oval_Face\n",
    "label[:,26,:,:]=1\t#Pale_Skin\n",
    "label[:,27,:,:]=1\t#Pointy_Nose\n",
    "label[:,28,:,:]=1\t#Receding_Hairline\n",
    "label[:,29,:,:]=1\t#Rosy_Cheeks\n",
    "label[:,30,:,:]=1\t#Sideburns\n",
    "label[:,31,:,:]=1\t#Smiling\n",
    "label[:,32,:,:]=-1\t#Straight_Hair\n",
    "label[:,33,:,:]=1\t#Wavy_Hair\n",
    "label[:,34,:,:]=-1\t#Wearing_Earrings\n",
    "label[:,35,:,:]=1\t#Wearing_Hat\n",
    "label[:,36,:,:]=-1\t#Wearing_Lipstick\n",
    "label[:,37,:,:]=-1\t#Wearing_Necklace\n",
    "label[:,38,:,:]=-1\t#Wearing_Necktie\n",
    "label[:,39,:,:]=1\t#Young"
   ]
  },
  {
   "cell_type": "code",
   "execution_count": null,
   "metadata": {},
   "outputs": [],
   "source": [
    "for i in range(num_image):\n",
    "    latent_z = mx.nd.random_normal(0, 1, shape=(1, latent_z_size, 1, 1), ctx=ctx)\n",
    "    latent_z = mx.nd.concat(latent_z,label,dim=1)\n",
    "    img = netG(latent_z)\n",
    "    plt.subplot(2,4,i+1)\n",
    "    visualize(img[0])\n",
    "    plt.savefig('samples-3.png',dpi=250)\n",
    "plt.show()"
   ]
  },
  {
   "cell_type": "code",
   "execution_count": null,
   "metadata": {},
   "outputs": [],
   "source": []
  },
  {
   "cell_type": "code",
   "execution_count": null,
   "metadata": {},
   "outputs": [],
   "source": []
  }
 ],
 "metadata": {
  "anaconda-cloud": {},
  "kernelspec": {
   "display_name": "Python 3",
   "language": "python",
   "name": "python3"
  },
  "language_info": {
   "codemirror_mode": {
    "name": "ipython",
    "version": 3
   },
   "file_extension": ".py",
   "mimetype": "text/x-python",
   "name": "python",
   "nbconvert_exporter": "python",
   "pygments_lexer": "ipython3",
   "version": "3.7.1"
  }
 },
 "nbformat": 4,
 "nbformat_minor": 2
}
